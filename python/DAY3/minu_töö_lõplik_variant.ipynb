{
 "cells": [
  {
   "cell_type": "markdown",
   "id": "cecc3632",
   "metadata": {},
   "source": [
    "\n",
    "# 📝 Ülesanne: API andmete toomine ja Markdown tabel\n",
    "\n",
    "## 🎯 Eesmärk\n",
    "Õppida tooma andmeid REST API-st ja esitama need Markdowni tabelina.\n",
    "\n",
    "---\n",
    "\n",
    "## ✅ Ülesanded\n",
    "\n",
    "### ÜL1. Too andmed API-st\n",
    "- [ ] Too kasutajate andmed:  \n",
    "  `https://jsonplaceholder.typicode.com/users`  \n",
    "- [ ] Too todo andmed:  \n",
    "  `https://jsonplaceholder.typicode.com/todos`\n"
   ]
  },
  {
   "cell_type": "code",
   "execution_count": null,
   "id": "e07a3c39",
   "metadata": {},
   "outputs": [],
   "source": [
    "import requests\n",
    "import pandas as pd\n",
    "import matplotlib.pyplot as plt\n",
    "\n",
    "### ÜL1. Too andmed API-st\n",
    "# kasutajad\n",
    "kasutajad_url = 'https://jsonplaceholder.typicode.com/users'\n",
    "kasutajad_response = requests.get(kasutajad_url) # request on pythony libary,kus on kirjas, mida pead kasutama, et erinevatel viisidel andmeid pärida, get küsib andmeid \n",
    "\n",
    "\n",
    "# nende ülesanded\n",
    "tegevusalad_url = 'https://jsonplaceholder.typicode.com/todos'\n",
    "tegevusalad_response = requests.get(tegevusalad_url)"
   ]
  },
  {
   "cell_type": "markdown",
   "id": "6b1d11b1",
   "metadata": {},
   "source": [
    "### ÜL2. Töötle andmeid\n",
    "- [ ] Seo `todos` vastava kasutajaga `userId` abil.  \n",
    "- [ ] Arvuta iga kasutaja kohta:\n",
    "  - Kokku ülesandeid  \n",
    "  - Tehtud ülesandeid  \n",
    "  - Tegemata ülesandeid  \n",
    "\n",
    "---\n"
   ]
  },
  {
   "cell_type": "code",
   "execution_count": null,
   "id": "064d1da9",
   "metadata": {},
   "outputs": [],
   "source": [
    "\n",
    "# Seon 'todo' ja 'user' 'userId' abil  \n",
    "#kõigepealt muudame andmed tabeliks tuues üleval  sisse pandad\n",
    "ulesanded = pd.DataFrame(tegevusalad_response.json())  # teeme jsoniks, muidu on alguses objekt e nagu mingi kogu app või lehekül, aga maham, et ta oleks nagu sõnaline tekst, et saaksime analüüsida \n",
    "kasutajad = pd.DataFrame(kasutajad_response.json())  # sulud tähendavad, et annad andmed, mite jsoni funsktisooni, mis teeb siis objektist teksti\n",
    "\n",
    "merged = pd.merge(ulesanded, kasutajad, left_on='userId', right_on='id', how='left') #kuidas seonduvad, mis alusel, mis meetodiga\n",
    "##print(merged)\n",
    "\n",
    "### ÜL2. Arvuta, mitu ülesannet on igaühel kokku ja mitu neist on tehtud\n",
    "summary = merged.groupby('name').agg( ## group by kataloogist võtad agg tähendab koonda, summeri ## group by thhed nagu andmehunniku nime järgi\n",
    "    total_tasks=('id_x', 'count'),       # kokku kõik ülesanded ## id_x on sisse ehtitatud,\n",
    "    done=('completed', 'sum')            # tehtud ülesanded (True = 1) total taski kolmis on väärtused kas tehtud või mitte, mina tahan ainult tehtud, sp liidan kõik tehtud väärtused\n",
    ")\n",
    "summary['not_done'] = summary['total_tasks'] - summary['done'] # teen uue veeru, mis võtab kokku kõik ülesanded ja lahutab tehtud ülesanded, et saada tegemata ülesanded"
   ]
  },
  {
   "cell_type": "markdown",
   "id": "b380d54a",
   "metadata": {},
   "source": [
    "## ÜL3. Loon graafiku\n"
   ]
  }
 ],
 "metadata": {
  "kernelspec": {
   "display_name": "Python 3",
   "language": "python",
   "name": "python3"
  },
  "language_info": {
   "name": "python",
   "version": "3.13.7"
  }
 },
 "nbformat": 4,
 "nbformat_minor": 5
}
